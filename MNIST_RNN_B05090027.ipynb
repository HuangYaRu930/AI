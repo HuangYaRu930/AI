{
  "nbformat": 4,
  "nbformat_minor": 0,
  "metadata": {
    "colab": {
      "name": "MNIST_RNN_B05090027.ipynb",
      "provenance": []
    },
    "kernelspec": {
      "name": "python3",
      "display_name": "Python 3"
    }
  },
  "cells": [
    {
      "cell_type": "code",
      "metadata": {
        "id": "0S87imn41tlX",
        "colab_type": "code",
        "colab": {
          "base_uri": "https://localhost:8080/",
          "height": 974
        },
        "outputId": "b85183f5-950a-4bab-873e-4508877a20ff"
      },
      "source": [
        "from keras.datasets import mnist\n",
        "from keras.layers import Dense, LSTM\n",
        "from keras.utils import to_categorical\n",
        "from keras.models import Sequential\n",
        "\n",
        "#parameters for LSTM\n",
        "nb_lstm_outputs = 30  \n",
        "nb_time_steps = 28  \n",
        "nb_input_vector = 28 \n",
        "\n",
        "#data preprocessing: tofloat32, normalization, one_hot encoding\n",
        "(x_train, y_train), (x_test, y_test) = mnist.load_data()\n",
        "x_train = x_train.astype('float32')\n",
        "x_test = x_test.astype('float32')\n",
        "x_train /= 255\n",
        "x_test /= 255\n",
        " \n",
        "y_train = to_categorical(y_train, num_classes=10)\n",
        "y_test = to_categorical(y_test, num_classes=10)\n",
        "\n",
        "#build model\n",
        "model = Sequential()\n",
        "model.add(LSTM(units=nb_lstm_outputs, input_shape=(nb_time_steps, nb_input_vector)))\n",
        "model.add(Dense(10, activation='softmax'))\n",
        "\n",
        "#compile:loss, optimizer, metrics\n",
        "model.compile(loss='categorical_crossentropy', optimizer='adam', metrics=['accuracy'])\n",
        "#train: epcoch, batch_size\n",
        "model.fit(x_train, y_train, epochs=20, batch_size=128, verbose=1)\n",
        "\n",
        "model.summary()\n",
        "\n",
        "score = model.evaluate(x_test, y_test,batch_size=128, verbose=1)\n",
        "print(score)"
      ],
      "execution_count": 1,
      "outputs": [
        {
          "output_type": "stream",
          "text": [
            "Using TensorFlow backend.\n"
          ],
          "name": "stderr"
        },
        {
          "output_type": "stream",
          "text": [
            "Downloading data from https://s3.amazonaws.com/img-datasets/mnist.npz\n",
            "11493376/11490434 [==============================] - 0s 0us/step\n",
            "Epoch 1/20\n",
            "60000/60000 [==============================] - 12s 203us/step - loss: 1.0135 - accuracy: 0.6794\n",
            "Epoch 2/20\n",
            "60000/60000 [==============================] - 12s 194us/step - loss: 0.3242 - accuracy: 0.9068\n",
            "Epoch 3/20\n",
            "60000/60000 [==============================] - 12s 197us/step - loss: 0.2204 - accuracy: 0.9354\n",
            "Epoch 4/20\n",
            "60000/60000 [==============================] - 12s 194us/step - loss: 0.1747 - accuracy: 0.9488\n",
            "Epoch 5/20\n",
            "60000/60000 [==============================] - 12s 196us/step - loss: 0.1465 - accuracy: 0.9568\n",
            "Epoch 6/20\n",
            "60000/60000 [==============================] - 11s 191us/step - loss: 0.1288 - accuracy: 0.9628\n",
            "Epoch 7/20\n",
            "60000/60000 [==============================] - 11s 191us/step - loss: 0.1134 - accuracy: 0.9676\n",
            "Epoch 8/20\n",
            "60000/60000 [==============================] - 12s 200us/step - loss: 0.1047 - accuracy: 0.9695\n",
            "Epoch 9/20\n",
            "60000/60000 [==============================] - 12s 195us/step - loss: 0.0952 - accuracy: 0.9720\n",
            "Epoch 10/20\n",
            "60000/60000 [==============================] - 12s 194us/step - loss: 0.0883 - accuracy: 0.9742\n",
            "Epoch 11/20\n",
            "60000/60000 [==============================] - 12s 193us/step - loss: 0.0825 - accuracy: 0.9752\n",
            "Epoch 12/20\n",
            "60000/60000 [==============================] - 11s 189us/step - loss: 0.0770 - accuracy: 0.9766\n",
            "Epoch 13/20\n",
            "60000/60000 [==============================] - 11s 188us/step - loss: 0.0740 - accuracy: 0.9781\n",
            "Epoch 14/20\n",
            "60000/60000 [==============================] - 11s 191us/step - loss: 0.0691 - accuracy: 0.9794\n",
            "Epoch 15/20\n",
            "60000/60000 [==============================] - 11s 188us/step - loss: 0.0662 - accuracy: 0.9801\n",
            "Epoch 16/20\n",
            "60000/60000 [==============================] - 11s 191us/step - loss: 0.0616 - accuracy: 0.9819\n",
            "Epoch 17/20\n",
            "60000/60000 [==============================] - 12s 202us/step - loss: 0.0607 - accuracy: 0.9816\n",
            "Epoch 18/20\n",
            "60000/60000 [==============================] - 11s 192us/step - loss: 0.0570 - accuracy: 0.9830\n",
            "Epoch 19/20\n",
            "60000/60000 [==============================] - 12s 195us/step - loss: 0.0545 - accuracy: 0.9834\n",
            "Epoch 20/20\n",
            "60000/60000 [==============================] - 11s 189us/step - loss: 0.0534 - accuracy: 0.9842\n",
            "Model: \"sequential_1\"\n",
            "_________________________________________________________________\n",
            "Layer (type)                 Output Shape              Param #   \n",
            "=================================================================\n",
            "lstm_1 (LSTM)                (None, 30)                7080      \n",
            "_________________________________________________________________\n",
            "dense_1 (Dense)              (None, 10)                310       \n",
            "=================================================================\n",
            "Total params: 7,390\n",
            "Trainable params: 7,390\n",
            "Non-trainable params: 0\n",
            "_________________________________________________________________\n",
            "10000/10000 [==============================] - 1s 58us/step\n",
            "[0.06986218194961548, 0.9781000018119812]\n"
          ],
          "name": "stdout"
        }
      ]
    }
  ]
}