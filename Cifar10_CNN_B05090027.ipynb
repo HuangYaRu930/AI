{
  "nbformat": 4,
  "nbformat_minor": 0,
  "metadata": {
    "colab": {
      "name": "Cifar10_CNN_B05090027.ipynb",
      "provenance": []
    },
    "kernelspec": {
      "name": "python3",
      "display_name": "Python 3"
    }
  },
  "cells": [
    {
      "cell_type": "code",
      "metadata": {
        "id": "dvJkEQtFCF-K",
        "colab_type": "code",
        "colab": {
          "base_uri": "https://localhost:8080/",
          "height": 1000
        },
        "outputId": "8adf2c39-8757-4ae2-b7f7-18301ac5a93b"
      },
      "source": [
        "from keras.datasets import cifar10\n",
        "\n",
        "(x_train, y_train_), (x_test, y_test_) = cifar10.load_data()\n",
        "\n",
        "x_train = x_train.astype('float32') / 255\n",
        "x_test = x_test.astype('float32') / 255\n",
        "\n",
        "from keras.utils import to_categorical\n",
        "y_train = to_categorical(y_train_)\n",
        "y_test = to_categorical(y_test_)\n",
        "\n",
        "\"\"\"## Model Definition\"\"\"\n",
        "\n",
        "from keras.models import Sequential\n",
        "model = Sequential()\n",
        "\n",
        "from keras.layers import Conv2D, MaxPool2D, Flatten, Dense\n",
        "\n",
        "model.add(Conv2D(filters=32, \n",
        "                kernel_size=(3, 3),\n",
        "                activation='relu',\n",
        "                input_shape=(32, 32, 3)))\n",
        "\n",
        "model.add(MaxPool2D())\n",
        "\n",
        "model.add(Conv2D(filters=64,\n",
        "                kernel_size=(3, 3),\n",
        "                activation='relu'))\n",
        "model.add(MaxPool2D())\n",
        "\n",
        "model.add(Flatten())\n",
        "model.add(Dense(10, activation='softmax'))\n",
        "\n",
        "model.compile(optimizer='adam',\n",
        "             loss='categorical_crossentropy',\n",
        "             metrics=['accuracy'])\n",
        "\n",
        "print(model.summary())\n",
        "\n",
        "\"\"\"## Fitting\"\"\"\n",
        "\n",
        "history = model.fit(x_train, y_train, batch_size=50, epochs=15, verbose=1, validation_data=(x_test, y_test))\n",
        "\n",
        "import matplotlib.pyplot as plt\n",
        "\n",
        "history_dict = history.history\n",
        "loss_values = history_dict['loss']\n",
        "val_loss_values = history_dict['val_loss']\n",
        "\n",
        "epochs = range(1, len(history_dict['accuracy']) + 1)\n",
        "\n",
        "plt.plot(epochs, loss_values, 'bo', label='Training loss')\n",
        "plt.plot(epochs, val_loss_values, 'b', label='Validation loss')\n",
        "plt.title('Training and validation loss')\n",
        "plt.xlabel('Epochs')\n",
        "plt.ylabel('Loss')\n",
        "plt.legend()\n",
        "\n",
        "plt.show()"
      ],
      "execution_count": 1,
      "outputs": [
        {
          "output_type": "stream",
          "text": [
            "Using TensorFlow backend.\n"
          ],
          "name": "stderr"
        },
        {
          "output_type": "stream",
          "text": [
            "Downloading data from https://www.cs.toronto.edu/~kriz/cifar-10-python.tar.gz\n",
            "170500096/170498071 [==============================] - 2s 0us/step\n",
            "Model: \"sequential_1\"\n",
            "_________________________________________________________________\n",
            "Layer (type)                 Output Shape              Param #   \n",
            "=================================================================\n",
            "conv2d_1 (Conv2D)            (None, 30, 30, 32)        896       \n",
            "_________________________________________________________________\n",
            "max_pooling2d_1 (MaxPooling2 (None, 15, 15, 32)        0         \n",
            "_________________________________________________________________\n",
            "conv2d_2 (Conv2D)            (None, 13, 13, 64)        18496     \n",
            "_________________________________________________________________\n",
            "max_pooling2d_2 (MaxPooling2 (None, 6, 6, 64)          0         \n",
            "_________________________________________________________________\n",
            "flatten_1 (Flatten)          (None, 2304)              0         \n",
            "_________________________________________________________________\n",
            "dense_1 (Dense)              (None, 10)                23050     \n",
            "=================================================================\n",
            "Total params: 42,442\n",
            "Trainable params: 42,442\n",
            "Non-trainable params: 0\n",
            "_________________________________________________________________\n",
            "None\n",
            "Train on 50000 samples, validate on 10000 samples\n",
            "Epoch 1/15\n",
            "50000/50000 [==============================] - 59s 1ms/step - loss: 1.5135 - accuracy: 0.4635 - val_loss: 1.2318 - val_accuracy: 0.5665\n",
            "Epoch 2/15\n",
            "50000/50000 [==============================] - 58s 1ms/step - loss: 1.1612 - accuracy: 0.5957 - val_loss: 1.1040 - val_accuracy: 0.6172\n",
            "Epoch 3/15\n",
            "50000/50000 [==============================] - 58s 1ms/step - loss: 1.0407 - accuracy: 0.6405 - val_loss: 1.0782 - val_accuracy: 0.6183\n",
            "Epoch 4/15\n",
            "50000/50000 [==============================] - 58s 1ms/step - loss: 0.9731 - accuracy: 0.6638 - val_loss: 1.0140 - val_accuracy: 0.6458\n",
            "Epoch 5/15\n",
            "50000/50000 [==============================] - 58s 1ms/step - loss: 0.9217 - accuracy: 0.6814 - val_loss: 0.9755 - val_accuracy: 0.6644\n",
            "Epoch 6/15\n",
            "50000/50000 [==============================] - 58s 1ms/step - loss: 0.8769 - accuracy: 0.6998 - val_loss: 0.9491 - val_accuracy: 0.6753\n",
            "Epoch 7/15\n",
            "50000/50000 [==============================] - 58s 1ms/step - loss: 0.8437 - accuracy: 0.7104 - val_loss: 0.9684 - val_accuracy: 0.6713\n",
            "Epoch 8/15\n",
            "50000/50000 [==============================] - 58s 1ms/step - loss: 0.8107 - accuracy: 0.7215 - val_loss: 0.9312 - val_accuracy: 0.6826\n",
            "Epoch 9/15\n",
            "50000/50000 [==============================] - 58s 1ms/step - loss: 0.7830 - accuracy: 0.7315 - val_loss: 0.9182 - val_accuracy: 0.6907\n",
            "Epoch 10/15\n",
            "50000/50000 [==============================] - 57s 1ms/step - loss: 0.7606 - accuracy: 0.7404 - val_loss: 0.9680 - val_accuracy: 0.6753\n",
            "Epoch 11/15\n",
            "50000/50000 [==============================] - 57s 1ms/step - loss: 0.7362 - accuracy: 0.7477 - val_loss: 0.9103 - val_accuracy: 0.6908\n",
            "Epoch 12/15\n",
            "50000/50000 [==============================] - 57s 1ms/step - loss: 0.7155 - accuracy: 0.7525 - val_loss: 0.9350 - val_accuracy: 0.6923\n",
            "Epoch 13/15\n",
            "50000/50000 [==============================] - 57s 1ms/step - loss: 0.6985 - accuracy: 0.7613 - val_loss: 0.9161 - val_accuracy: 0.6948\n",
            "Epoch 14/15\n",
            "50000/50000 [==============================] - 58s 1ms/step - loss: 0.6755 - accuracy: 0.7677 - val_loss: 0.9306 - val_accuracy: 0.6897\n",
            "Epoch 15/15\n",
            "50000/50000 [==============================] - 58s 1ms/step - loss: 0.6612 - accuracy: 0.7731 - val_loss: 0.9414 - val_accuracy: 0.6942\n"
          ],
          "name": "stdout"
        },
        {
          "output_type": "display_data",
          "data": {
            "image/png": "[encoded data removed]",
            "text/plain": [
              "<Figure size 432x288 with 1 Axes>"
            ]
          },
          "metadata": {
            "tags": [],
            "needs_background": "light"
          }
        }
      ]
    }
  ]
}