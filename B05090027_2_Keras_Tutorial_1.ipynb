{
  "nbformat": 4,
  "nbformat_minor": 0,
  "metadata": {
    "colab": {
      "name": "2.Keras_Tutorial_1.ipynb",
      "provenance": []
    },
    "kernelspec": {
      "name": "python3",
      "display_name": "Python 3"
    }
  },
  "cells": [
    {
      "cell_type": "code",
      "metadata": {
        "id": "9Hsywax8kfRR",
        "colab_type": "code",
        "colab": {
          "base_uri": "https://localhost:8080/",
          "height": 493
        },
        "outputId": "692ea085-ceba-4f76-f7ad-7ae5b684039e"
      },
      "source": [
        "import keras\n",
        "from keras.models import Sequential\n",
        "from keras.layers import Dense\n",
        "\n",
        "import numpy as np\n",
        "data = np.random.random((1000, 10)) #隨機產生1000筆資料，每筆資料1包含十個float數字\n",
        "labels = np.random.randint(2, size=(1000, 1)) #隨機產生1000筆資料，每筆資料上限為2(意思就是0 或 1)\n",
        "print(np.shape(data))\n",
        "print(data[0])\n",
        "print(np.shape(labels))\n",
        "print(labels[0])\n",
        "\n",
        "model = Sequential()\n",
        "model.add(Dense(32, activation='relu', input_dim=10))\n",
        "model.add(Dense(1, activation='sigmoid'))\n",
        "model.compile(optimizer='rmsprop', loss='binary_crossentropy', metrics=['accuracy'])\n",
        "\n",
        "model.fit(data, labels, epochs=10, batch_size=32)\n",
        "\n",
        "score=model.evaluate(data, labels)\n",
        "print(score[1])"
      ],
      "execution_count": 1,
      "outputs": [
        {
          "output_type": "stream",
          "text": [
            "Using TensorFlow backend.\n"
          ],
          "name": "stderr"
        },
        {
          "output_type": "stream",
          "text": [
            "(1000, 10)\n",
            "[0.89164699 0.37259321 0.85012357 0.01746296 0.41369546 0.87775843\n",
            " 0.34925528 0.51712762 0.49596495 0.89737051]\n",
            "(1000, 1)\n",
            "[0]\n",
            "Epoch 1/10\n",
            "1000/1000 [==============================] - 0s 271us/step - loss: 0.7011 - accuracy: 0.4860\n",
            "Epoch 2/10\n",
            "1000/1000 [==============================] - 0s 34us/step - loss: 0.6964 - accuracy: 0.4870\n",
            "Epoch 3/10\n",
            "1000/1000 [==============================] - 0s 33us/step - loss: 0.6952 - accuracy: 0.4860\n",
            "Epoch 4/10\n",
            "1000/1000 [==============================] - 0s 36us/step - loss: 0.6935 - accuracy: 0.5040\n",
            "Epoch 5/10\n",
            "1000/1000 [==============================] - 0s 33us/step - loss: 0.6929 - accuracy: 0.5070\n",
            "Epoch 6/10\n",
            "1000/1000 [==============================] - 0s 33us/step - loss: 0.6920 - accuracy: 0.4950\n",
            "Epoch 7/10\n",
            "1000/1000 [==============================] - 0s 34us/step - loss: 0.6910 - accuracy: 0.5060\n",
            "Epoch 8/10\n",
            "1000/1000 [==============================] - 0s 35us/step - loss: 0.6892 - accuracy: 0.5410\n",
            "Epoch 9/10\n",
            "1000/1000 [==============================] - 0s 33us/step - loss: 0.6892 - accuracy: 0.5320\n",
            "Epoch 10/10\n",
            "1000/1000 [==============================] - 0s 33us/step - loss: 0.6883 - accuracy: 0.5270\n",
            "1000/1000 [==============================] - 0s 38us/step\n",
            "0.5389999747276306\n"
          ],
          "name": "stdout"
        }
      ]
    }
  ]
}